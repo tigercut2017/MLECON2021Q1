{
 "cells": [
  {
   "cell_type": "code",
   "execution_count": 1,
   "id": "9c81249e-984f-4c9d-93f8-247b6517460d",
   "metadata": {},
   "outputs": [
    {
     "name": "stderr",
     "output_type": "stream",
     "text": [
      "[NbConvertApp] Converting notebook 2.data_analysis-auto.ipynb to html\n",
      "[NbConvertApp] Writing 4063146 bytes to 2.data_analysis-auto.html\n"
     ]
    }
   ],
   "source": [
    "%%sh\n",
    "jupyter nbconvert --to=html \"2.data_analysis-auto.ipynb\""
   ]
  },
  {
   "cell_type": "code",
   "execution_count": 2,
   "id": "a8eb9ab3-89d6-45f9-b8dd-0e512b994e9d",
   "metadata": {},
   "outputs": [
    {
     "name": "stderr",
     "output_type": "stream",
     "text": [
      "[NbConvertApp] Converting notebook 2.data_analysis-auto.ipynb to html\n",
      "[NbConvertApp] Writing 4059224 bytes to 2.data_analysis-auto.html\n"
     ]
    }
   ],
   "source": [
    "%%sh\n",
    "jupyter nbconvert --to=html \"2.data_analysis-auto.ipynb\" --no-input"
   ]
  },
  {
   "cell_type": "code",
   "execution_count": 5,
   "id": "42483fec-4f0f-46f9-8a99-fe9824dbf545",
   "metadata": {},
   "outputs": [
    {
     "name": "stderr",
     "output_type": "stream",
     "text": [
      "[NbConvertApp] Converting notebook 3.ML modeling.ipynb to script\n",
      "[NbConvertApp] Writing 6448 bytes to 3.ML modeling.py\n"
     ]
    }
   ],
   "source": [
    "%%sh\n",
    "jupyter nbconvert --to=script \"3.ML modeling.ipynb\" "
   ]
  },
  {
   "cell_type": "code",
   "execution_count": null,
   "id": "df229e52-17eb-41bb-a781-9bea307f709b",
   "metadata": {},
   "outputs": [],
   "source": []
  }
 ],
 "metadata": {
  "kernelspec": {
   "display_name": "Python 3 (ipykernel)",
   "language": "python",
   "name": "python3"
  },
  "language_info": {
   "codemirror_mode": {
    "name": "ipython",
    "version": 3
   },
   "file_extension": ".py",
   "mimetype": "text/x-python",
   "name": "python",
   "nbconvert_exporter": "python",
   "pygments_lexer": "ipython3",
   "version": "3.8.3"
  }
 },
 "nbformat": 4,
 "nbformat_minor": 5
}
