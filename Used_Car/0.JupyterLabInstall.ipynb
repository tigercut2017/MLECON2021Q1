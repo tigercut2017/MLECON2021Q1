{
 "cells": [
  {
   "cell_type": "markdown",
   "id": "afce42cc-f8d7-4bab-8249-01c0d246003d",
   "metadata": {},
   "source": [
    "### 1. Jupyter lab installation \n",
    "https://www.anaconda.com/products/distribution"
   ]
  },
  {
   "cell_type": "markdown",
   "id": "326d241c-9b98-4cbc-94eb-fe77646f7899",
   "metadata": {
    "tags": []
   },
   "source": [
    "### 2. How to use the jupyter markdown for your project\n",
    "https://www.ibm.com/docs/en/watson-studio-local/1.2.3?topic=notebooks-markdown-jupyter-cheatsheet"
   ]
  },
  {
   "cell_type": "markdown",
   "id": "70449cca-c4d6-4f0c-ae7a-f1412ef92b9a",
   "metadata": {},
   "source": [
    "# Here is title"
   ]
  },
  {
   "cell_type": "markdown",
   "id": "b099f0f9-8b24-4b30-82f8-e426514ed149",
   "metadata": {},
   "source": [
    "### Here is a section name"
   ]
  },
  {
   "cell_type": "markdown",
   "id": "f2ad3d89-80a5-404a-81e4-59105d42b12f",
   "metadata": {},
   "source": [
    "Here is a latex math formula: $Y=\\beta$  \n",
    "- here a bullet point\n"
   ]
  },
  {
   "cell_type": "markdown",
   "id": "9d584314-31d8-4834-9290-48b1141d6fef",
   "metadata": {},
   "source": [
    "### 3. Install the required python packages for the project"
   ]
  },
  {
   "cell_type": "code",
   "execution_count": 1,
   "id": "42994660-3ae9-4e24-8f04-9754a5066253",
   "metadata": {},
   "outputs": [
    {
     "name": "stdout",
     "output_type": "stream",
     "text": [
      "Requirement already satisfied: pandas in c:\\programdata\\anaconda3\\lib\\site-packages (1.4.2)\n",
      "Requirement already satisfied: pytz>=2020.1 in c:\\programdata\\anaconda3\\lib\\site-packages (from pandas) (2021.3)\n",
      "Requirement already satisfied: python-dateutil>=2.8.1 in c:\\programdata\\anaconda3\\lib\\site-packages (from pandas) (2.8.2)\n",
      "Requirement already satisfied: numpy>=1.18.5 in c:\\programdata\\anaconda3\\lib\\site-packages (from pandas) (1.21.4)\n",
      "Requirement already satisfied: six>=1.5 in c:\\programdata\\anaconda3\\lib\\site-packages (from python-dateutil>=2.8.1->pandas) (1.16.0)\n",
      "Note: you may need to restart the kernel to use updated packages.\n"
     ]
    }
   ],
   "source": [
    "%pip install pandas"
   ]
  }
 ],
 "metadata": {
  "kernelspec": {
   "display_name": "Python 3 (ipykernel)",
   "language": "python",
   "name": "python3"
  },
  "language_info": {
   "codemirror_mode": {
    "name": "ipython",
    "version": 3
   },
   "file_extension": ".py",
   "mimetype": "text/x-python",
   "name": "python",
   "nbconvert_exporter": "python",
   "pygments_lexer": "ipython3",
   "version": "3.8.3"
  }
 },
 "nbformat": 4,
 "nbformat_minor": 5
}
