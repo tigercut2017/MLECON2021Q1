{
 "cells": [
  {
   "cell_type": "code",
   "execution_count": null,
   "id": "f53d7d22-a0a2-4044-98e0-714fd5b0c51a",
   "metadata": {},
   "outputs": [],
   "source": []
  },
  {
   "cell_type": "markdown",
   "id": "326d241c-9b98-4cbc-94eb-fe77646f7899",
   "metadata": {},
   "source": [
    "### How to use the jupyter markdown for your project\n",
    "https://www.ibm.com/docs/en/watson-studio-local/1.2.3?topic=notebooks-markdown-jupyter-cheatsheet"
   ]
  },
  {
   "cell_type": "code",
   "execution_count": null,
   "id": "a9744ae5-0d26-46af-bdd4-002ef6eacec8",
   "metadata": {},
   "outputs": [],
   "source": []
  }
 ],
 "metadata": {
  "kernelspec": {
   "display_name": "Python 3 (ipykernel)",
   "language": "python",
   "name": "python3"
  },
  "language_info": {
   "codemirror_mode": {
    "name": "ipython",
    "version": 3
   },
   "file_extension": ".py",
   "mimetype": "text/x-python",
   "name": "python",
   "nbconvert_exporter": "python",
   "pygments_lexer": "ipython3",
   "version": "3.8.8"
  }
 },
 "nbformat": 4,
 "nbformat_minor": 5
}
