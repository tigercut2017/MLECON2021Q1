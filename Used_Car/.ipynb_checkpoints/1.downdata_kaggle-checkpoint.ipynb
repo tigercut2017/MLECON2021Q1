{
 "cells": [
  {
   "cell_type": "markdown",
   "id": "94edb6dd-a329-49e9-b2e1-bb9b81c14a0a",
   "metadata": {},
   "source": [
    "### I. Install the Kaggle API\n",
    "- register the Kaggle website by using the website (https://www.kaggle.com/)\n",
    "- install the kaggle API by using （https://www.kaggle.com/docs/api）"
   ]
  },
  {
   "cell_type": "code",
   "execution_count": 4,
   "id": "17f1c15e-e444-46b4-9d7e-23b906fc19a4",
   "metadata": {},
   "outputs": [],
   "source": [
    "#!pip install kaggle"
   ]
  },
  {
   "cell_type": "markdown",
   "id": "29af8589-6eaa-4495-9bfc-ccf2e0512edb",
   "metadata": {},
   "source": [
    "### II. Use Kaggle API "
   ]
  },
  {
   "cell_type": "code",
   "execution_count": 4,
   "id": "6884bab4-8a7c-457d-8063-8de689d6923d",
   "metadata": {},
   "outputs": [
    {
     "name": "stdout",
     "output_type": "stream",
     "text": [
      "usage: kaggle [-h] [-v] {competitions,c,datasets,d,kernels,k,config} ...\n",
      "\n",
      "optional arguments:\n",
      "  -h, --help            show this help message and exit\n",
      "  -v, --version         show program's version number and exit\n",
      "\n",
      "commands:\n",
      "  {competitions,c,datasets,d,kernels,k,config}\n",
      "                        Use one of:\n",
      "                        competitions {list, files, download, submit, submissions, leaderboard}\n",
      "                        datasets {list, files, download, create, version, init, metadata, status}\n",
      "                        config {view, set, unset}\n",
      "    competitions (c)    Commands related to Kaggle competitions\n",
      "    datasets (d)        Commands related to Kaggle datasets\n",
      "    kernels (k)         Commands related to Kaggle kernels\n",
      "    config              Configuration settings\n"
     ]
    }
   ],
   "source": [
    "%%sh\n",
    "kaggle -h"
   ]
  },
  {
   "cell_type": "code",
   "execution_count": 5,
   "id": "4feb012f-cd06-4f7e-be4a-f3808ec0f6a0",
   "metadata": {},
   "outputs": [
    {
     "name": "stdout",
     "output_type": "stream",
     "text": [
      "ref                                                         title                                               size  lastUpdated          downloadCount  voteCount  usabilityRating  \n",
      "----------------------------------------------------------  -------------------------------------------------  -----  -------------------  -------------  ---------  ---------------  \n",
      "tunguz/used-car-auction-prices                              Used Car Auction Prices                             19MB  2021-05-18 17:49:43           2482         68  1.0              \n",
      "doaaalsenani/usa-cers-dataset                               US Cars Dataset                                     66KB  2020-04-22 14:38:05          19071        282  1.0              \n",
      "bogof666/shanghai-car-license-plate-auction-price           Shanghai Car License Plate Auction Price             3KB  2019-01-24 03:18:01           1723         56  0.7058824        \n",
      "dansbecker/melbourne-housing-snapshot                       Melbourne Housing Snapshot                         451KB  2018-06-05 12:52:24          86911       1074  0.7058824        \n",
      "anthonypino/melbourne-housing-market                        Melbourne Housing Market                             2MB  2018-10-14 23:33:37          39836        627  0.7352941        \n",
      "danielkyrka/bmw-pricing-challenge                           BMW Pricing Challenge                               74KB  2019-03-07 17:01:02           2462         32  0.7647059        \n",
      "asimzahid/pakistans-largest-pakwheels-automobiles-listings  Pakistan's Largest PakWheels Automobiles Listings   11MB  2021-10-23 12:10:54            168         17  1.0              \n"
     ]
    }
   ],
   "source": [
    "%%sh\n",
    "kaggle datasets list -s \"car auction\""
   ]
  },
  {
   "cell_type": "code",
   "execution_count": 6,
   "id": "e48c7407-6f26-475e-846c-6d350a2b2555",
   "metadata": {},
   "outputs": [
    {
     "name": "stdout",
     "output_type": "stream",
     "text": [
      "used-car-auction-prices.zip: Skipping, found more recently modified local copy (use --force to force download)\n"
     ]
    }
   ],
   "source": [
    "%%sh\n",
    "kaggle datasets download tunguz/used-car-auction-prices"
   ]
  },
  {
   "cell_type": "markdown",
   "id": "55d5da9c-a814-4a2a-9756-1c52942cea76",
   "metadata": {},
   "source": [
    "### III. unzip the data"
   ]
  },
  {
   "cell_type": "code",
   "execution_count": 2,
   "id": "5120555a-a73a-4e49-993a-31690d69c528",
   "metadata": {},
   "outputs": [],
   "source": [
    "filename='used-car-auction-prices.zip'"
   ]
  },
  {
   "cell_type": "code",
   "execution_count": 3,
   "id": "2bcd4371-b709-49f0-bcb3-068469b29784",
   "metadata": {},
   "outputs": [
    {
     "name": "stdout",
     "output_type": "stream",
     "text": [
      ".ipynb_checkpoints\n",
      "0.JupyterLabInstall.ipynb\n",
      "1.downdata.ipynb\n",
      "2.data_analysis.ipynb\n",
      "3.modeling.ipynb\n",
      "used-car-auction-prices.zip\n",
      "\n",
      "\n",
      "\n"
     ]
    }
   ],
   "source": [
    "import zipfile\n",
    "import os\n",
    "for item in os.listdir(path='.'):\n",
    "    print(item)\n",
    "print(\"\\n\\n\")    \n",
    "with zipfile.ZipFile(filename,\"r\") as zf:\n",
    "    zf.extractall()"
   ]
  },
  {
   "cell_type": "code",
   "execution_count": null,
   "id": "9e8293a2-75c6-44ea-b14e-1063cfa9c035",
   "metadata": {},
   "outputs": [],
   "source": []
  }
 ],
 "metadata": {
  "kernelspec": {
   "display_name": "Python 3 (ipykernel)",
   "language": "python",
   "name": "python3"
  },
  "language_info": {
   "codemirror_mode": {
    "name": "ipython",
    "version": 3
   },
   "file_extension": ".py",
   "mimetype": "text/x-python",
   "name": "python",
   "nbconvert_exporter": "python",
   "pygments_lexer": "ipython3",
   "version": "3.8.3"
  }
 },
 "nbformat": 4,
 "nbformat_minor": 5
}
