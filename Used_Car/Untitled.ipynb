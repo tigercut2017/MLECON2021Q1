{
 "cells": [
  {
   "cell_type": "code",
   "execution_count": null,
   "id": "cd04fafb-d57d-41f3-a299-c599f84f4452",
   "metadata": {},
   "outputs": [],
   "source": [
    "yyyymm_prod=202205"
   ]
  },
  {
   "cell_type": "code",
   "execution_count": null,
   "id": "2788c9c1-a8d8-4c96-bb13-a172da44dfc5",
   "metadata": {},
   "outputs": [],
   "source": []
  },
  {
   "cell_type": "code",
   "execution_count": null,
   "id": "acb1e7b3-2d51-45f4-aff7-e3d6ecbdc7d5",
   "metadata": {},
   "outputs": [],
   "source": [
    "1.completed\n",
    "202105 (testing)\n",
    "\n",
    "begin to 202104 (training) ()\n",
    "\n",
    " \n",
    "202106\n",
    "\n",
    "begin to 202105\n",
    "\n",
    "\n",
    "so on so forth\n",
    "\n",
    "202105 202106 202107 .... 202205 (13th)\n",
    "\n",
    "\n",
    "\n",
    "2. \n",
    "\n",
    "begin to 202112 (training) \n",
    "\n",
    "202201 to 202205 (testing)\n",
    "\n",
    "\n",
    "\n",
    "for months in [12, 13, 14 ,  max ]:\n",
    "    run(final_model)\n",
    "    \n",
    "    \n",
    "    \n",
    "LOSS=(Y-Y_hat)**2/N\n",
    "\n",
    "Gain value= Gain in the loss function \n",
    "\n",
    "\n",
    "Y_bar=fun(x1,x2,x3)\n",
    "\n",
    "x2 feature permutation importance: \n",
    "    \n",
    "shuttle x2=> x2_s (no information)\n",
    "\n",
    "Y_bar_permutated=fun(x1,x2_s,x3)\n",
    "\n",
    "Y-Y_bar vs Y-Y_bar_permutated\n",
    "\n",
    "\n",
    "\n"
   ]
  }
 ],
 "metadata": {
  "kernelspec": {
   "display_name": "Python 3 (ipykernel)",
   "language": "python",
   "name": "python3"
  },
  "language_info": {
   "codemirror_mode": {
    "name": "ipython",
    "version": 3
   },
   "file_extension": ".py",
   "mimetype": "text/x-python",
   "name": "python",
   "nbconvert_exporter": "python",
   "pygments_lexer": "ipython3",
   "version": "3.8.3"
  }
 },
 "nbformat": 4,
 "nbformat_minor": 5
}
